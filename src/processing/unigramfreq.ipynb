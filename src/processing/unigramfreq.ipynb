{
 "cells": [
  {
   "cell_type": "code",
   "execution_count": 15,
   "metadata": {},
   "outputs": [
    {
     "name": "stderr",
     "output_type": "stream",
     "text": [
      "[nltk_data] Downloading package punkt to\n",
      "[nltk_data]     C:\\Users\\aless\\AppData\\Roaming\\nltk_data...\n",
      "[nltk_data]   Package punkt is already up-to-date!\n",
      "[nltk_data] Downloading package wordnet to\n",
      "[nltk_data]     C:\\Users\\aless\\AppData\\Roaming\\nltk_data...\n",
      "[nltk_data]   Package wordnet is already up-to-date!\n",
      "[nltk_data] Downloading package words to\n",
      "[nltk_data]     C:\\Users\\aless\\AppData\\Roaming\\nltk_data...\n",
      "[nltk_data]   Package words is already up-to-date!\n"
     ]
    }
   ],
   "source": [
    "import pandas as pd\n",
    "import numpy as np\n",
    "from nltk.tokenize import word_tokenize\n",
    "import nltk\n",
    "nltk.download('punkt')\n",
    "nltk.download('wordnet')\n",
    "nltk.download('words')\n",
    "from nltk.stem import WordNetLemmatizer #lemitization\n",
    "from nltk.corpus import words\n",
    "from tqdm import tqdm\n",
    "tqdm.pandas()"
   ]
  },
  {
   "cell_type": "code",
   "execution_count": 16,
   "metadata": {},
   "outputs": [
    {
     "name": "stderr",
     "output_type": "stream",
     "text": [
      "100%|██████████| 333333/333333 [00:01<00:00, 265584.48it/s]\n"
     ]
    }
   ],
   "source": [
    "def safe_lemmatize(word):\n",
    "    try:\n",
    "        return lemmatizer.lemmatize(word)\n",
    "    except:\n",
    "        return word\n",
    "\n",
    "data = pd.read_csv('../../data/raw/unigram_freq.csv')\n",
    "lemmatizer = WordNetLemmatizer()\n",
    "data['word'] = data['word'].progress_apply(safe_lemmatize)\n",
    "data = data.groupby('word').sum().sort_values(by='count', ascending=False)/10000\n",
    "data.to_csv('../../data/processed/unigram_lemmatized_freq.csv', index=True)"
   ]
  },
  {
   "cell_type": "code",
   "execution_count": 17,
   "metadata": {},
   "outputs": [
    {
     "name": "stdout",
     "output_type": "stream",
     "text": [
      "58809008.29409999\n"
     ]
    }
   ],
   "source": [
    "\n",
    "total = data['count'].sum()\n",
    "print(total)\n",
    "#words_counts = {}\n",
    "#for word in tqdm(words):\n",
    "#    try:\n",
    "#        lemma = lemmatizer.lemmatize(word)\n",
    "#        if lemma in words_counts:\n",
    "#            words_counts[lemma] += data.loc[lemma].values[0] \n",
    "#        else:\n",
    "#            words_counts[lemma] = data.loc[lemma].values[0] \n",
    "#    except:\n",
    "#        continue"
   ]
  },
  {
   "cell_type": "code",
   "execution_count": 19,
   "metadata": {},
   "outputs": [
    {
     "name": "stdout",
     "output_type": "stream",
     "text": [
      "3306.3953\n"
     ]
    }
   ],
   "source": [
    "print(data.loc['hello'].values[0])"
   ]
  }
 ],
 "metadata": {
  "interpreter": {
   "hash": "93de652a13d3233f39edb71dbfe42b78ce309ddee1c3b3e0d4d5db9e0e0c877c"
  },
  "kernelspec": {
   "display_name": "Python 3.9.4 64-bit ('env': venv)",
   "name": "python3"
  },
  "language_info": {
   "codemirror_mode": {
    "name": "ipython",
    "version": 3
   },
   "file_extension": ".py",
   "mimetype": "text/x-python",
   "name": "python",
   "nbconvert_exporter": "python",
   "pygments_lexer": "ipython3",
   "version": "3.9.4"
  },
  "orig_nbformat": 4
 },
 "nbformat": 4,
 "nbformat_minor": 2
}
