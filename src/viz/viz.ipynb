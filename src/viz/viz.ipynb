{
 "cells": [
  {
   "cell_type": "code",
   "execution_count": 68,
   "metadata": {},
   "outputs": [
    {
     "name": "stderr",
     "output_type": "stream",
     "text": [
      "[nltk_data] Downloading package punkt to\n",
      "[nltk_data]     C:\\Users\\aless\\AppData\\Roaming\\nltk_data...\n",
      "[nltk_data]   Package punkt is already up-to-date!\n",
      "[nltk_data] Downloading package wordnet to\n",
      "[nltk_data]     C:\\Users\\aless\\AppData\\Roaming\\nltk_data...\n",
      "[nltk_data]   Package wordnet is already up-to-date!\n",
      "[nltk_data] Downloading package words to\n",
      "[nltk_data]     C:\\Users\\aless\\AppData\\Roaming\\nltk_data...\n",
      "[nltk_data]   Package words is already up-to-date!\n"
     ]
    }
   ],
   "source": [
    "import pandas as pd\n",
    "import numpy as np\n",
    "from nltk.tokenize import word_tokenize\n",
    "import nltk\n",
    "nltk.download('punkt')\n",
    "nltk.download('wordnet')\n",
    "nltk.download('words')\n",
    "from nltk.stem import WordNetLemmatizer #lemitization\n",
    "from nltk.corpus import words\n",
    "from tqdm import tqdm\n",
    "tqdm.pandas()\n",
    "import seaborn as sns\n",
    "import matplotlib.pyplot as plt\n",
    "from sklearn.linear_model import LinearRegression\n",
    "\n",
    "from math import log2"
   ]
  },
  {
   "cell_type": "code",
   "execution_count": 69,
   "metadata": {},
   "outputs": [],
   "source": [
    "data = pd.read_csv('../../data/processed/processed_xy_augmented.csv')\n",
    "change_in_pop = data['test_mean_clicks'].div(data['test_mean_impressions'])-data['clicks'].div(data['impressions'])\n"
   ]
  },
  {
   "cell_type": "code",
   "execution_count": 70,
   "metadata": {},
   "outputs": [],
   "source": [
    "def mean_emotion(data,emotion,length):\n",
    "    means = data.groupby('test_id').mean()[emotion]\n",
    "    lengths = data[length].apply(lambda x: log2(x+1))\n",
    "    return data['test_id'].map(lambda x: means.loc[x]).div(lengths)\n"
   ]
  },
  {
   "cell_type": "code",
   "execution_count": 71,
   "metadata": {},
   "outputs": [],
   "source": [
    "def emotional_score(data,emotion,length):\n",
    "    lengths = data[length].apply(lambda x: log2(x+1))\n",
    "    return data[emotion].div(lengths)\n"
   ]
  },
  {
   "cell_type": "code",
   "execution_count": 72,
   "metadata": {},
   "outputs": [],
   "source": [
    "#print(emotional_score(data,'Negative','token_word_count'))"
   ]
  },
  {
   "cell_type": "code",
   "execution_count": 73,
   "metadata": {},
   "outputs": [],
   "source": [
    "def vizualize_scatter(data,emotion,length,y):\n",
    "    escore= emotional_score(data,emotion,length) - mean_emotion(data,emotion,length)\n",
    "    model = LinearRegression().fit(escore.values.reshape(-1,1),y.values.reshape(-1,1))\n",
    "    #get the gradient of model\n",
    "    gradient = model.coef_[0][0]\n",
    "    print(gradient)\n",
    "    sns.regplot(x=escore,y=y)\n",
    "    plt.savefig(f'../../data/visualizations//scatter/{emotion}-{length}-scatter.png')\n",
    "    plt.close()\n",
    "    "
   ]
  },
  {
   "cell_type": "code",
   "execution_count": 74,
   "metadata": {},
   "outputs": [],
   "source": [
    "def vizualize_hist(data,emotion,length,y):\n",
    "    escore= emotional_score(data,emotion,length)\n",
    "    df = pd.concat([escore,y],axis=1)\n",
    "    print(df)\n",
    "    sns.histplot(data=df)\n",
    "    plt.savefig(f'../../data/visualizations/hist/{emotion}-{length}.png')\n",
    "    plt.show()\n",
    "    plt.close()\n",
    "    "
   ]
  },
  {
   "cell_type": "code",
   "execution_count": 75,
   "metadata": {},
   "outputs": [],
   "source": [
    "for emotion in ['Positive','Negative','Anger','Anticipation','Disgust','Fear','Joy','Sadness','Surprise','Trust']:\n",
    "    for length in ['token_word_count','emotive_word_count']:\n",
    "        vizualize_scatter(data,emotion,length,change_in_pop)"
   ]
  }
 ],
 "metadata": {
  "interpreter": {
   "hash": "93de652a13d3233f39edb71dbfe42b78ce309ddee1c3b3e0d4d5db9e0e0c877c"
  },
  "kernelspec": {
   "display_name": "Python 3.9.4 64-bit ('env': venv)",
   "name": "python3"
  },
  "language_info": {
   "codemirror_mode": {
    "name": "ipython",
    "version": 3
   },
   "file_extension": ".py",
   "mimetype": "text/x-python",
   "name": "python",
   "nbconvert_exporter": "python",
   "pygments_lexer": "ipython3",
   "version": "3.9.4"
  },
  "orig_nbformat": 4
 },
 "nbformat": 4,
 "nbformat_minor": 2
}
